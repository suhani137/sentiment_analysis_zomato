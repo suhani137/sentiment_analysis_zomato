{
 "cells": [
  {
   "cell_type": "code",
   "execution_count": 1,
   "metadata": {},
   "outputs": [],
   "source": [
    "#Importing libraries\n",
    "import pandas as pd"
   ]
  },
  {
   "cell_type": "code",
   "execution_count": 2,
   "metadata": {},
   "outputs": [],
   "source": [
    "#Importing dataset\n",
    "sentiment = pd.read_csv('E:/LBSIM/Trimester 4/TP/sentiment.csv')\n",
    "y_data = sentiment['Sentiment']\n",
    "x_data = sentiment.drop(['Sentiment'], axis=1)"
   ]
  },
  {
   "cell_type": "code",
   "execution_count": 3,
   "metadata": {},
   "outputs": [
    {
     "name": "stdout",
     "output_type": "stream",
     "text": [
      "<class 'pandas.core.frame.DataFrame'>\n",
      "RangeIndex: 2521 entries, 0 to 2520\n",
      "Data columns (total 37 columns):\n",
      "Zomato Gold                2521 non-null int32\n",
      "Table Booking              2521 non-null int32\n",
      "Online Ordering            2521 non-null int32\n",
      "Ongoing Promotions         2521 non-null int32\n",
      "Quick Bites                2521 non-null int32\n",
      "Casual Dining              2521 non-null int32\n",
      "Bakeries                   2521 non-null int32\n",
      "Cafés                      2521 non-null int32\n",
      "Sweet Shops                2521 non-null int32\n",
      "Dessert Parlor             2521 non-null int32\n",
      "Beverage Shops             2521 non-null int32\n",
      "Fine Dining                2521 non-null int32\n",
      "Lounge                     2521 non-null int32\n",
      "Full Bar Available         2521 non-null int32\n",
      "Live Sports Screening      2521 non-null int32\n",
      "Live Music                 2521 non-null int32\n",
      "Live Entertainment         2521 non-null int32\n",
      "Valet Parking Available    2521 non-null int32\n",
      "Indoor Seating             2521 non-null int32\n",
      "Outdoor Seating            2521 non-null int32\n",
      "Nightlife                  2521 non-null int32\n",
      "Smoking Area               2521 non-null int32\n",
      "Serves Alcohol             2521 non-null int32\n",
      "Buffet                     2521 non-null int32\n",
      "Breakfast                  2521 non-null int32\n",
      "Brunch                     2521 non-null int32\n",
      "Wheelchair Accessible      2521 non-null int32\n",
      "Desserts and Bakes         2521 non-null int32\n",
      "Vegetarian Only            2521 non-null int32\n",
      "WiFi                       2521 non-null int32\n",
      "Kid Friendly               2521 non-null int32\n",
      "Above 18 Only              2521 non-null int32\n",
      "Takeaway Only              2521 non-null int32\n",
      "Delivery Only              2521 non-null int32\n",
      "Cuisines                   2521 non-null int64\n",
      " Cost for Two              2521 non-null float64\n",
      "Hours                      2521 non-null float64\n",
      "dtypes: float64(2), int32(34), int64(1)\n",
      "memory usage: 394.0 KB\n"
     ]
    }
   ],
   "source": [
    "#%%Encoding categorical variables\n",
    "from sklearn import preprocessing\n",
    "le = preprocessing.LabelEncoder()\n",
    "features = []; categorical_features = []\n",
    "num_of_columns = x_data.shape[1]\n",
    " \n",
    "for i in range(0, num_of_columns):\n",
    " column_name = x_data.columns[i]\n",
    " column_type = x_data[column_name].dtypes\n",
    " \n",
    " if i != num_of_columns: \n",
    "  features.append(column_name)\n",
    " \n",
    " if column_type == 'object':\n",
    "  le.fit(x_data[column_name])\n",
    "  feature_classes = list(le.classes_)\n",
    "  encoded_feature = le.transform(x_data[column_name])\n",
    "  x_data[column_name] = pd.DataFrame(encoded_feature)\n",
    " \n",
    "  if i != num_of_columns: \n",
    "   categorical_features.append(column_name)\n",
    "x_data.info()\n",
    "x_data.head()\n",
    "\n",
    "# Encoding Target to binary 0 & 1\n",
    "from sklearn.preprocessing import LabelEncoder\n",
    "number = LabelEncoder()\n",
    "y_data= number.fit_transform(y_data.astype('str'))"
   ]
  },
  {
   "cell_type": "code",
   "execution_count": 4,
   "metadata": {},
   "outputs": [
    {
     "name": "stderr",
     "output_type": "stream",
     "text": [
      "C:\\Users\\Ssinghal\\Anaconda3\\lib\\site-packages\\sklearn\\linear_model\\logistic.py:432: FutureWarning: Default solver will be changed to 'lbfgs' in 0.22. Specify a solver to silence this warning.\n",
      "  FutureWarning)\n"
     ]
    },
    {
     "name": "stdout",
     "output_type": "stream",
     "text": [
      "Accuracy : 0.900990099009901\n",
      "Precision : 1.0\n",
      "Recall : 0.900990099009901\n",
      "F1-Score : 0.9479166666666667\n",
      "Confusion Matrix :\n",
      "[[  0   0]\n",
      " [ 50 455]]\n"
     ]
    }
   ],
   "source": [
    "#Splitting\n",
    "from sklearn.model_selection import train_test_split\n",
    "train_X, val_X, train_y, val_y = train_test_split(x_data,y_data,train_size=0.8, \n",
    "                                                    test_size=0.2,random_state=0)\n",
    "\n",
    "from sklearn.metrics import accuracy_score\n",
    "from sklearn.metrics import confusion_matrix\n",
    "from sklearn.metrics import precision_score\n",
    "from sklearn.metrics import recall_score\n",
    "from sklearn.metrics import f1_score\n",
    "from sklearn.metrics import zero_one_loss\n",
    "\n",
    "#Logistic Regression\n",
    "from sklearn.linear_model import LogisticRegression\n",
    "model1 = LogisticRegression()\n",
    "model1.fit(train_X, train_y)\n",
    "predicted = model1.predict(val_X)\n",
    "\n",
    "print(\"Accuracy : \"+ str(accuracy_score(predicted, val_y)))\n",
    "print(\"Precision : \"+str(precision_score(predicted, val_y)))\n",
    "print(\"Recall : \"+str(recall_score(predicted, val_y)))\n",
    "print(\"F1-Score : \"+str(f1_score(predicted, val_y)))\n",
    "print(\"Confusion Matrix :\")\n",
    "print(confusion_matrix(predicted, val_y))\n"
   ]
  },
  {
   "cell_type": "code",
   "execution_count": 27,
   "metadata": {},
   "outputs": [
    {
     "name": "stdout",
     "output_type": "stream",
     "text": [
      "Accuracy : 0.8653465346534653\n",
      "Precision : 0.9406593406593406\n",
      "Recall : 0.9125799573560768\n",
      "F1-Score : 0.9264069264069263\n",
      "Confusion Matrix :\n",
      "[[  9  27]\n",
      " [ 41 428]]\n"
     ]
    }
   ],
   "source": [
    "#Naive Bayes\n",
    "from sklearn.naive_bayes import BernoulliNB \n",
    "\n",
    "model2 = BernoulliNB ()\n",
    "model2.fit(train_X, train_y)\n",
    "predicted = model2.predict(val_X)\n",
    "\n",
    "print(\"Accuracy : \"+ str(accuracy_score(predicted, val_y)))\n",
    "print(\"Precision : \"+str(precision_score(predicted, val_y)))\n",
    "print(\"Recall : \"+str(recall_score(predicted, val_y)))\n",
    "print(\"F1-Score : \"+str(f1_score(predicted, val_y)))\n",
    "print(\"Confusion Matrix :\")\n",
    "print(confusion_matrix(predicted, val_y))"
   ]
  },
  {
   "cell_type": "code",
   "execution_count": 28,
   "metadata": {},
   "outputs": [
    {
     "name": "stdout",
     "output_type": "stream",
     "text": [
      "Accuracy : 0.8950495049504951\n",
      "Precision : 0.9912087912087912\n",
      "Recall : 0.902\n",
      "F1-Score : 0.944502617801047\n",
      "Confusion Matrix :\n",
      "[[  1   4]\n",
      " [ 49 451]]\n"
     ]
    }
   ],
   "source": [
    "#Decision Tree\n",
    "from sklearn.tree import DecisionTreeClassifier\n",
    "from sklearn import tree\n",
    "\n",
    "model3 = DecisionTreeClassifier(criterion = \"gini\",min_samples_leaf=10)\n",
    "model3.fit(train_X, train_y)\n",
    "predicted = model3.predict(val_X)\n",
    "print(\"Accuracy : \"+ str(accuracy_score(predicted, val_y)))\n",
    "print(\"Precision : \"+str(precision_score(predicted, val_y)))\n",
    "print(\"Recall : \"+str(recall_score(predicted, val_y)))\n",
    "print(\"F1-Score : \"+str(f1_score(predicted, val_y)))\n",
    "print(\"Confusion Matrix :\")\n",
    "print(confusion_matrix(predicted, val_y))"
   ]
  },
  {
   "cell_type": "code",
   "execution_count": 25,
   "metadata": {},
   "outputs": [
    {
     "name": "stderr",
     "output_type": "stream",
     "text": [
      "C:\\Users\\Ssinghal\\Anaconda3\\lib\\site-packages\\sklearn\\ensemble\\forest.py:245: FutureWarning: The default value of n_estimators will change from 10 in version 0.20 to 100 in 0.22.\n",
      "  \"10 in version 0.20 to 100 in 0.22.\", FutureWarning)\n"
     ]
    },
    {
     "name": "stdout",
     "output_type": "stream",
     "text": [
      "Accuracy : 0.8871287128712871\n",
      "Precision : 0.9692307692307692\n",
      "Recall : 0.9111570247933884\n",
      "F1-Score : 0.939297124600639\n",
      "Confusion Matrix :\n",
      "[[  7  14]\n",
      " [ 43 441]]\n"
     ]
    }
   ],
   "source": [
    "#Random Forest\n",
    "from sklearn.ensemble import RandomForestClassifier\n",
    "\n",
    "forest_model = RandomForestClassifier()\n",
    "forest_model.fit(train_X, train_y)\n",
    "predicted = forest_model.predict(val_X)\n",
    "print(\"Accuracy : \"+ str(accuracy_score(predicted, val_y)))\n",
    "print(\"Precision : \"+str(precision_score(predicted, val_y)))\n",
    "print(\"Recall : \"+str(recall_score(predicted, val_y)))\n",
    "print(\"F1-Score : \"+str(f1_score(predicted, val_y)))\n",
    "print(\"Confusion Matrix :\")\n",
    "print(confusion_matrix(predicted, val_y))"
   ]
  },
  {
   "cell_type": "code",
   "execution_count": 9,
   "metadata": {},
   "outputs": [
    {
     "name": "stdout",
     "output_type": "stream",
     "text": [
      "Accuracy : 0.900990099009901\n",
      "Precision : 0.9846153846153847\n",
      "Recall : 0.9124236252545825\n",
      "F1-Score : 0.9471458773784356\n",
      "Confusion Matrix :\n",
      "[[  7   7]\n",
      " [ 43 448]]\n"
     ]
    }
   ],
   "source": [
    "# Create a SVC classifier using an RBF kernel\n",
    "from sklearn.svm import SVC\n",
    "svm = SVC(kernel='rbf', random_state=50, gamma=10, C=10)\n",
    "svm.fit(train_X, train_y)\n",
    "predicted = svm.predict(val_X)\n",
    "print(\"Accuracy : \"+ str(accuracy_score(predicted, val_y)))\n",
    "print(\"Precision : \"+str(precision_score(predicted, val_y)))\n",
    "print(\"Recall : \"+str(recall_score(predicted, val_y)))\n",
    "print(\"F1-Score : \"+str(f1_score(predicted, val_y)))\n",
    "print(\"Confusion Matrix :\")\n",
    "print(confusion_matrix(predicted, val_y))"
   ]
  }
 ],
 "metadata": {
  "kernelspec": {
   "display_name": "Python 3",
   "language": "python",
   "name": "python3"
  },
  "language_info": {
   "codemirror_mode": {
    "name": "ipython",
    "version": 3
   },
   "file_extension": ".py",
   "mimetype": "text/x-python",
   "name": "python",
   "nbconvert_exporter": "python",
   "pygments_lexer": "ipython3",
   "version": "3.7.4"
  }
 },
 "nbformat": 4,
 "nbformat_minor": 2
}
